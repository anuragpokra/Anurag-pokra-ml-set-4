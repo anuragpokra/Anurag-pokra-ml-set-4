{
  "nbformat": 4,
  "nbformat_minor": 0,
  "metadata": {
    "colab": {
      "name": "ANURAGPOKRA(013):-SET-4",
      "provenance": []
    },
    "kernelspec": {
      "name": "python3",
      "display_name": "Python 3"
    },
    "language_info": {
      "name": "python"
    }
  },
  "cells": [
    {
      "cell_type": "code",
      "metadata": {
        "id": "YDjkZOvsuUGd"
      },
      "source": [
        "import numpy as np\n",
        "import pandas as pd\n",
        "import matplotlib.pyplot as plt\n",
        "from sklearn.model_selection import train_test_split\n",
        "from sklearn.linear_model import LinearRegression\n",
        "from sklearn.preprocessing import LabelEncoder, OneHotEncoder"
      ],
      "execution_count": 1,
      "outputs": []
    },
    {
      "cell_type": "code",
      "metadata": {
        "colab": {
          "resources": {
            "http://localhost:8080/nbextensions/google.colab/files.js": {
              "data": "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",
              "ok": true,
              "headers": [
                [
                  "content-type",
                  "application/javascript"
                ]
              ],
              "status": 200,
              "status_text": ""
            }
          },
          "base_uri": "https://localhost:8080/",
          "height": 111
        },
        "id": "FeB8vSSbuv1S",
        "outputId": "15181068-408c-444f-a9a9-686bb19c63e4"
      },
      "source": [
        "from google.colab import files\n",
        "files.upload()"
      ],
      "execution_count": 7,
      "outputs": [
        {
          "output_type": "display_data",
          "data": {
            "text/html": [
              "\n",
              "     <input type=\"file\" id=\"files-fd02e904-d404-4604-b1f5-5a839c4e5bc0\" name=\"files[]\" multiple disabled\n",
              "        style=\"border:none\" />\n",
              "     <output id=\"result-fd02e904-d404-4604-b1f5-5a839c4e5bc0\">\n",
              "      Upload widget is only available when the cell has been executed in the\n",
              "      current browser session. Please rerun this cell to enable.\n",
              "      </output>\n",
              "      <script src=\"/nbextensions/google.colab/files.js\"></script> "
            ],
            "text/plain": [
              "<IPython.core.display.HTML object>"
            ]
          },
          "metadata": {
            "tags": []
          }
        },
        {
          "output_type": "stream",
          "text": [
            "Saving PCA and NN dataset1.csv.csv to PCA and NN dataset1.csv.csv\n"
          ],
          "name": "stdout"
        },
        {
          "output_type": "execute_result",
          "data": {
            "text/plain": [
              "{'PCA and NN dataset1.csv.csv': b'Gender,Glucose,BP,SkinThickness,Insulin,BMI,PedigreeFunction,Age,Outcome\\r\\nMale,148,72,35,0,33.6,0.627,50,1\\r\\nFemale,85,66,29,0,26.6,0.351,31,0\\r\\nFemale,183,64,0,0,23.3,0.672,32,1\\r\\nFemale,89,66,23,94,28.1,0.167,21,0\\r\\nMale,137,,35,168,43.1,2.288,33,1\\r\\nFemale,116,74,0,0,25.6,0.201,30,0\\r\\nFemale,78,50,32,88,31,0.248,26,1\\r\\nFemale,115,0,0,0,35.3,0.134,29,0\\r\\nFemale,197,70,45,543,30.5,0.158,53,1\\r\\nFemale,125,96,0,0,0,0.232,54,1\\r\\nFemale,110,,0,0,37.6,0.191,30,0\\r\\nFemale,168,74,0,0,38,0.537,34,1\\r\\nFemale,139,80,0,0,27.1,1.441,57,0\\r\\nMale,189,60,23,846,30.1,0.398,59,1\\r\\nMale,166,,19,175,25.8,0.587,51,1\\r\\nMale,100,0,0,0,30,0.484,32,1\\r\\nMale,118,84,47,230,45.8,0.551,31,1\\r\\nMale,107,74,0,0,29.6,0.254,31,1\\r\\nMale,103,30,38,83,43.3,0.183,33,0\\r\\nMale,115,70,30,96,34.6,0.529,32,1\\r\\nFemale,126,88,41,235,39.3,0.704,27,0\\r\\nFemale,99,84,0,0,35.4,0.388,50,0\\r\\nFemale,196,90,0,0,39.8,0.451,41,1\\r\\nFemale,119,,35,0,29,0.263,29,1\\r\\nFemale,143,94,33,146,36.6,0.254,51,1\\r\\nFemale,125,70,26,115,31.1,0.205,41,1\\r\\nFemale,147,76,0,0,39.4,0.257,43,1\\r\\nFemale,97,66,15,140,23.2,0.487,22,0\\r\\nFemale,145,82,19,110,22.2,0.245,57,0\\r\\nFemale,117,92,0,0,34.1,0.337,38,0\\r\\nFemale,109,75,26,0,36,0.546,60,0\\r\\nFemale,158,76,36,245,31.6,0.851,28,1\\r\\nFemale,88,58,11,54,24.8,0.267,22,0\\r\\nFemale,92,92,0,0,19.9,0.188,28,0\\r\\nFemale,122,78,31,0,27.6,0.512,45,0\\r\\nFemale,103,60,33,192,24,0.966,33,0\\r\\nFemale,138,76,0,0,33.2,0.42,35,0\\r\\nFemale,102,,37,0,32.9,0.665,46,1\\r\\nFemale,90,68,42,0,38.2,0.503,27,1\\r\\nMale,111,72,47,207,37.1,1.39,56,1\\r\\nMale,180,64,25,70,34,0.271,26,0\\r\\nMale,133,84,0,0,40.2,0.696,37,0\\r\\nMale,106,92,18,0,22.7,0.235,48,0\\r\\nMale,171,110,24,240,45.4,0.721,54,1\\r\\nMale,159,64,0,0,27.4,0.294,40,0\\r\\nMale,180,66,39,0,42,1.893,25,1\\r\\nMale,146,,0,0,29.7,0.564,29,0\\r\\nMale,71,70,27,0,28,0.586,22,0\\r\\nFemale,103,66,32,0,39.1,0.344,31,1\\r\\nFemale,105,0,0,0,0,0.305,24,0\\r\\nFemale,103,80,11,82,19.4,0.491,22,0\\r\\nFemale,101,50,15,36,24.2,0.526,26,0\\r\\nFemale,88,66,21,23,24.4,0.342,30,0\\r\\nFemale,176,90,34,300,33.7,0.467,58,1\\r\\nFemale,150,66,42,342,34.7,0.718,42,0\\r\\nFemale,73,50,10,0,23,0.248,21,0\\r\\nFemale,187,68,39,304,37.7,0.254,41,1\\r\\nFemale,100,88,60,110,46.8,0.962,31,0\\r\\nFemale,146,,0,0,40.5,1.781,44,0\\r\\nFemale,105,64,41,142,41.5,0.173,22,0\\r\\nFemale,84,0,0,0,0,0.304,21,0\\r\\nFemale,133,72,0,0,32.9,0.27,39,1\\r\\nFemale,44,62,0,0,25,0.587,36,0\\r\\nFemale,141,58,34,,25.4,0.699,24,0\\r\\nFemale,114,66,,0,32.8,0.258,42,1\\r\\nFemale,99,74,27,0,29,0.203,32,0\\r\\nFemale,109,88,30,0,32.5,0.855,38,1\\r\\nFemale,109,92,0,0,42.7,0.845,54,0\\r\\nFemale,95,66,13,38,19.6,0.334,25,0\\r\\nFemale,146,85,27,100,28.9,0.189,27,0\\r\\nFemale,100,66,20,90,32.9,0.867,28,1\\r\\nMale,139,64,35,140,28.6,0.411,26,0\\r\\nMale,126,90,0,,43.4,0.583,42,1\\r\\nMale,129,,20,270,35.1,0.231,23,0\\r\\nMale,79,75,30,0,32,0.396,22,0\\r\\nMale,0,48,20,0,24.7,0.14,22,0\\r\\nMale,62,78,0,0,32.6,0.391,41,0\\r\\nMale,95,72,33,0,37.7,0.37,27,0\\r\\nFemale,131,0,0,,43.2,0.27,26,1\\r\\nFemale,112,66,,,25,0.307,24,0\\r\\nFemale,113,44,13,0,22.4,0.14,22,0\\r\\nFemale,74,0,0,0,0,0.102,22,0\\r\\nFemale,83,78,26,71,29.3,0.767,36,0\\r\\nFemale,101,65,28,0,24.6,0.237,22,0\\r\\nFemale,137,108,0,0,48.8,0.227,37,1\\r\\nFemale,110,74,29,125,32.4,0.698,27,0\\r\\nFemale,106,72,54,0,36.6,0.178,45,0\\r\\nFemale,100,68,,71,38.5,0.324,26,0\\r\\nFemale,136,70,32,110,37.1,0.153,43,1\\r\\nFemale,107,68,19,0,26.5,0.165,24,0\\r\\nFemale,80,55,0,0,19.1,0.258,21,0\\r\\nFemale,123,,15,176,32,0.443,34,0\\r\\nFemale,81,78,40,48,46.7,0.261,42,0\\r\\nFemale,134,72,,0,23.8,0.277,60,1\\r\\nFemale,142,82,18,64,24.7,0.761,21,0\\r\\nFemale,144,72,27,,33.9,0.255,40,0\\r\\nFemale,92,62,28,0,31.6,0.13,24,0\\r\\nFemale,71,48,18,76,20.4,0.323,22,0\\r\\nFemale,93,50,,64,28.7,,23,0\\r\\nFemale,122,90,51,220,49.7,0.325,31,1\\r\\nMale,163,72,0,0,39,1.222,33,1\\r\\nMale,151,60,,0,26.1,0.179,22,0\\r\\nMale,125,96,0,0,22.5,0.262,21,0\\r\\nMale,81,,18,40,26.6,0.283,24,0\\r\\nMale,85,65,0,0,,0.93,27,0\\r\\nMale,126,56,29,152,28.7,0.801,21,0\\r\\nMale,96,122,0,0,22.4,,27,0\\r\\nMale,144,58,28,140,29.5,0.287,37,0\\r\\nFemale,83,58,31,18,,0.336,25,0\\r\\nFemale,95,85,25,36,37.4,0.247,24,1\\r\\nFemale,171,72,33,135,33.3,0.199,24,1\\r\\nFemale,155,62,26,495,34,,46,1\\r\\nFemale,89,76,34,37,31.2,0.192,23,0\\r\\nFemale,76,62,0,0,34,0.391,25,0\\r\\nFemale,160,54,32,,,0.588,39,1\\r\\nFemale,146,92,0,0,31.2,,61,1\\r\\nFemale,124,74,0,0,34,0.22,38,1\\r\\nFemale,78,48,0,0,33.7,0.654,25,0\\r\\nFemale,97,60,23,0,28.2,0.443,22,0\\r\\nFemale,99,76,15,51,23.2,0.223,21,0\\r\\nFemale,162,76,56,100,53.2,0.759,25,1\\r\\nFemale,111,64,39,0,34.2,0.26,24,0\\r\\nFemale,107,74,30,100,33.6,0.404,23,0\\r\\nFemale,132,80,0,0,26.8,0.186,69,0\\r\\nFemale,113,76,0,0,33.3,0.278,23,1\\r\\nFemale,88,30,42,99,55,0.496,26,1\\r\\nFemale,120,70,30,135,42.9,0.452,30,0\\r\\nFemale,118,58,36,94,33.3,0.261,23,0\\r\\nFemale,117,88,24,145,34.5,0.403,40,1\\r\\nFemale,105,84,0,0,27.9,0.741,62,1\\r\\nFemale,173,70,14,168,29.7,,33,1\\r\\nMale,122,56,0,0,33.3,1.114,33,1\\r\\nMale,170,64,37,225,34.5,0.356,30,1\\r\\nMale,84,74,31,0,38.3,0.457,39,0\\r\\nMale,96,68,13,49,21.1,0.647,26,0\\r\\nMale,125,60,20,140,33.8,0.088,31,0\\r\\nMale,100,70,26,50,30.8,0.597,21,0\\r\\nMale,93,60,25,92,28.7,0.532,22,0\\r\\nMale,129,80,0,0,31.2,0.703,29,0\\r\\nMale,105,72,29,325,36.9,0.159,28,0\\r\\nMale,128,78,0,0,21.1,0.268,55,0\\r\\nFemale,106,82,30,0,39.5,0.286,38,0\\r\\nFemale,108,52,26,63,32.5,0.318,22,0\\r\\nFemale,108,66,0,0,32.4,0.272,42,1\\r\\nFemale,154,62,31,284,32.8,0.237,23,0\\r\\nFemale,102,75,23,0,0,0.572,21,0\\r\\nFemale,57,80,37,0,32.8,0.096,41,0\\r\\nFemale,106,64,35,119,30.5,1.4,34,0\\r\\nFemale,147,78,0,0,33.7,0.218,65,0\\r\\nFemale,90,70,17,0,27.3,0.085,22,0\\r\\nFemale,136,74,50,204,37.4,0.399,24,0\\r\\nFemale,114,65,0,0,21.9,0.432,37,0\\r\\nFemale,156,86,28,155,34.3,1.189,42,1\\r\\nFemale,153,82,42,485,40.6,0.687,23,0\\r\\nFemale,188,78,0,0,47.9,0.137,43,1\\r\\nFemale,152,88,44,0,50,0.337,36,1\\r\\nFemale,99,52,15,94,24.6,0.637,21,0\\r\\nFemale,109,56,21,135,25.2,0.833,23,0\\r\\nFemale,88,74,19,53,29,0.229,22,0\\r\\nMale,163,72,41,114,40.9,0.817,47,1\\r\\nMale,151,90,38,0,29.7,0.294,36,0\\r\\nMale,102,74,40,105,37.2,0.204,45,0\\r\\nMale,114,80,34,285,44.2,0.167,27,0\\r\\nMale,100,64,23,0,29.7,0.368,21,0\\r\\nMale,131,88,0,0,31.6,0.743,32,1\\r\\nMale,104,74,18,156,29.9,0.722,41,1\\r\\nMale,148,66,25,0,32.5,0.256,22,0\\r\\nMale,120,68,0,0,29.6,0.709,34,0\\r\\nFemale,110,66,0,0,31.9,0.471,29,0\\r\\nFemale,111,90,12,78,28.4,0.495,29,0\\r\\nFemale,102,82,0,0,30.8,0.18,36,1\\r\\nFemale,134,70,23,130,35.4,0.542,29,1\\r\\nFemale,87,0,23,0,28.9,0.773,25,0\\r\\nFemale,79,60,42,48,43.5,0.678,23,0\\r\\nFemale,75,64,24,55,29.7,0.37,33,0\\r\\nFemale,179,72,42,130,32.7,0.719,36,1\\r\\nFemale,85,78,0,0,31.2,0.382,42,0\\r\\nFemale,129,110,46,130,67.1,0.319,26,1\\r\\nFemale,143,78,0,0,45,0.19,47,0\\r\\nFemale,130,82,0,0,39.1,0.956,37,1\\r\\nFemale,87,80,0,0,23.2,0.084,32,0\\r\\nFemale,119,64,18,92,34.9,0.725,23,0\\r\\nFemale,0,74,20,23,27.7,0.299,21,0\\r\\nFemale,73,60,0,0,26.8,0.268,27,0\\r\\nFemale,141,74,0,0,27.6,0.244,40,0\\r\\nMale,194,68,28,0,35.9,0.745,41,1\\r\\nMale,181,68,36,495,30.1,0.615,60,1\\r\\nMale,128,98,41,58,32,1.321,33,1\\r\\nMale,109,76,39,114,27.9,0.64,31,1\\r\\nMale,139,80,35,160,31.6,0.361,25,1\\r\\nMale,111,62,0,0,22.6,0.142,21,0\\r\\nMale,123,70,44,94,33.1,0.374,40,0\\r\\nMale,159,66,0,0,30.4,0.383,36,1\\r\\nMale,135,0,0,0,52.3,0.578,40,1\\r\\nMale,85,55,20,0,24.4,0.136,42,0\\r\\nMale,158,84,41,210,39.4,0.395,29,1\\r\\nMale,105,58,0,0,24.3,0.187,21,0\\r\\nMale,107,62,13,48,22.9,0.678,23,1\\r\\nMale,109,64,44,99,34.8,0.905,26,1\\r\\nMale,148,60,27,318,30.9,0.15,29,1\\r\\nMale,113,80,16,0,31,0.874,21,0\\r\\nMale,138,82,0,0,40.1,0.236,28,0\\r\\nMale,108,68,20,0,27.3,0.787,32,0\\r\\nMale,99,70,16,44,20.4,0.235,27,0\\r\\nMale,103,72,32,190,37.7,0.324,55,0\\r\\nMale,111,72,28,0,23.9,0.407,27,0\\r\\nMale,196,76,29,280,37.5,0.605,57,1\\r\\nMale,162,104,0,0,37.7,0.151,52,1\\r\\nMale,96,64,27,87,33.2,0.289,21,0\\r\\nMale,184,84,33,0,35.5,0.355,41,1\\r\\nFemale,81,60,22,0,27.7,0.29,25,0\\r\\nFemale,147,85,54,0,42.8,0.375,24,0\\r\\nFemale,179,95,31,0,34.2,0.164,60,0\\r\\nFemale,140,65,26,130,42.6,0.431,24,1\\r\\nFemale,112,82,32,175,34.2,0.26,36,1\\r\\nFemale,151,70,40,271,41.8,0.742,38,1\\r\\nFemale,109,62,41,129,35.8,0.514,25,1\\r\\nFemale,125,68,30,120,30,0.464,32,0\\r\\nMale,85,74,22,0,29,1.224,32,1\\r\\nMale,112,66,0,0,37.8,,41,1\\r\\nMale,177,60,29,478,34.6,1.072,21,1\\r\\nMale,158,90,0,0,31.6,0.805,66,1\\r\\nMale,119,0,0,0,25.2,0.209,37,0\\r\\nMale,142,60,33,190,28.8,0.687,61,0\\r\\nMale,100,66,15,56,23.6,0.666,26,0\\r\\nMale,87,78,27,32,34.6,0.101,22,0\\r\\nMale,101,76,0,0,35.7,0.198,26,0\\r\\nMale,162,52,38,0,37.2,0.652,24,1\\r\\nMale,197,70,39,744,36.7,2.329,31,0\\r\\nMale,117,80,31,53,45.2,0.089,24,0\\r\\nMale,142,86,0,0,44,0.645,22,1\\r\\nMale,134,80,37,370,46.2,0.238,46,1\\r\\nMale,79,80,25,37,25.4,0.583,22,0\\r\\nMale,122,68,0,0,35,0.394,29,0\\r\\nMale,74,68,28,45,29.7,0.293,23,0\\r\\nMale,171,72,0,0,43.6,0.479,26,1\\r\\nMale,181,84,21,192,35.9,0.586,51,1\\r\\nMale,179,90,27,0,44.1,0.686,23,1\\r\\nMale,164,84,21,0,30.8,0.831,32,1\\r\\nMale,104,76,0,0,18.4,0.582,27,0\\r\\nMale,91,64,24,0,29.2,0.192,21,0\\r\\nMale,91,70,32,88,33.1,,22,0\\r\\nMale,139,54,0,0,25.6,0.402,22,1\\r\\nMale,119,50,22,176,27.1,1.318,33,1\\r\\nMale,146,76,35,194,38.2,0.329,29,0\\r\\nMale,184,85,15,0,30,1.213,49,1\\r\\nMale,122,68,0,0,31.2,0.258,41,0\\r\\nFemale,165,90,33,680,52.3,0.427,23,0\\r\\nFemale,124,70,33,402,35.4,0.282,34,0\\r\\nFemale,111,86,19,0,30.1,0.143,23,0\\r\\nFemale,106,52,0,0,31.2,0.38,42,0\\r\\nFemale,129,84,0,0,28,0.284,27,0\\r\\nFemale,90,80,14,55,24.4,0.249,24,0\\r\\nFemale,86,68,32,0,35.8,0.238,25,0\\r\\nFemale,92,62,7,258,27.6,0.926,44,1\\r\\nFemale,113,64,35,0,33.6,0.543,21,1\\r\\nFemale,111,56,39,0,30.1,0.557,30,0\\r\\nFemale,114,68,22,0,28.7,0.092,25,0\\r\\nFemale,193,50,16,375,25.9,0.655,24,0\\r\\nFemale,155,76,28,150,33.3,,51,1\\r\\nFemale,191,68,15,130,30.9,0.299,34,0\\r\\nFemale,141,0,0,0,30,0.761,27,1\\r\\nFemale,95,70,32,0,32.1,0.612,24,0\\r\\nFemale,142,80,15,0,32.4,0.2,63,0\\r\\nFemale,123,62,0,0,32,0.226,35,1\\r\\nFemale,96,74,18,67,33.6,0.997,43,0\\r\\nMale,138,0,0,0,36.3,0.933,25,1\\r\\nMale,128,64,42,0,40,1.101,24,0\\r\\nMale,102,52,0,0,25.1,0.078,21,0\\r\\nMale,146,0,0,0,27.5,0.24,28,1\\r\\nMale,101,86,37,0,45.6,1.136,38,1\\r\\nMale,108,62,32,56,,0.128,21,0\\r\\nMale,122,78,0,0,23,,40,0\\r\\nMale,71,78,50,45,33.2,0.422,21,0\\r\\nMale,106,70,0,0,34.2,0.251,52,0\\r\\nMale,100,70,52,57,40.5,0.677,25,0\\r\\nMale,106,60,24,0,26.5,0.296,29,1\\r\\nMale,104,64,23,116,27.8,0.454,23,0\\r\\nMale,114,74,0,0,24.9,0.744,57,0\\r\\nMale,108,62,10,278,25.3,0.881,22,0\\r\\nMale,146,70,0,0,37.9,0.334,28,1\\r\\nMale,129,76,28,122,35.9,0.28,39,0\\r\\nMale,133,88,15,155,32.4,0.262,37,0\\r\\nMale,161,,0,0,,0.165,47,1\\r\\nMale,108,80,0,0,27,0.259,52,1\\r\\nMale,136,74,26,,26,0.647,51,0\\r\\nMale,155,84,44,545,38.7,0.619,34,0\\r\\nMale,119,86,39,220,45.6,0.808,29,1\\r\\nMale,96,56,17,49,20.8,0.34,26,0\\r\\nMale,108,72,43,75,36.1,0.263,33,0\\r\\nMale,78,88,29,40,36.9,0.434,21,0\\r\\nMale,107,62,30,74,36.6,0.757,25,1\\r\\nMale,128,78,37,182,43.3,1.224,31,1\\r\\nMale,128,48,45,194,40.5,0.613,24,1\\r\\nMale,161,50,0,0,21.9,0.254,65,0\\r\\nMale,151,62,31,120,35.5,0.692,28,0\\r\\nMale,146,70,38,360,28,0.337,29,1\\r\\nFemale,126,84,29,215,30.7,0.52,24,0\\r\\nFemale,100,78,25,184,36.6,0.412,46,1\\r\\nFemale,112,72,0,0,23.6,0.84,58,0\\r\\nFemale,167,0,0,0,32.3,0.839,30,1\\r\\nFemale,144,58,33,135,31.6,0.422,25,1\\r\\nFemale,77,82,41,42,,0.156,35,0\\r\\nFemale,115,98,0,0,52.9,0.209,28,1\\r\\nFemale,150,76,,0,21,0.207,37,0\\r\\nFemale,120,76,37,105,,0.215,29,0\\r\\nFemale,161,68,23,132,25.5,0.326,47,1\\r\\nFemale,137,68,14,148,24.8,0.143,21,0\\r\\nFemale,128,68,19,180,30.5,1.391,25,1\\r\\nFemale,124,68,28,205,32.9,0.875,30,1\\r\\nFemale,80,66,30,0,26.2,0.313,41,0\\r\\nFemale,106,70,37,148,39.4,0.605,22,0\\r\\nFemale,155,74,17,96,26.6,0.433,27,1\\r\\nFemale,113,50,10,85,29.5,0.626,25,0\\r\\nFemale,109,80,31,,35.9,,43,1\\r\\nFemale,112,,22,94,34.1,0.315,26,0\\r\\nFemale,99,80,11,64,19.3,0.284,30,0\\r\\nFemale,182,74,0,0,30.5,0.345,29,1\\r\\nFemale,115,66,39,140,38.1,0.15,28,0\\r\\nMale,194,78,0,0,23.5,0.129,59,1\\r\\nMale,129,60,12,231,27.5,0.527,31,0\\r\\nMale,112,74,30,0,31.6,0.197,25,1\\r\\nMale,124,70,20,0,27.4,0.254,36,1\\r\\nMale,152,90,33,29,26.8,0.731,43,1\\r\\nMale,112,75,32,0,35.7,0.148,21,0\\r\\nMale,157,72,21,168,25.6,0.123,24,0\\r\\nMale,122,64,32,156,35.1,0.692,30,1\\r\\nMale,179,70,0,0,35.1,0.2,37,0\\r\\nMale,102,86,36,120,,0.127,23,1\\r\\nMale,105,,32,68,30.8,0.122,37,0\\r\\nMale,118,72,19,0,23.1,1.476,46,0\\r\\nMale,87,58,16,52,32.7,0.166,25,0\\r\\nMale,180,0,0,0,43.3,0.282,41,1\\r\\nMale,106,80,0,0,23.6,0.137,44,0\\r\\nMale,95,60,18,58,23.9,0.26,22,0\\r\\nMale,165,76,43,255,47.9,0.259,26,0\\r\\nMale,117,0,0,0,33.8,0.932,44,0\\r\\nMale,115,76,0,0,31.2,0.343,44,1\\r\\nMale,152,78,34,171,34.2,0.893,33,1\\r\\nMale,178,84,0,0,39.9,0.331,41,1\\r\\nMale,130,70,13,105,25.9,0.472,22,0\\r\\nFemale,95,74,21,73,25.9,0.673,36,0\\r\\nFemale,0,68,35,0,32,0.389,22,0\\r\\nFemale,122,86,0,0,,0.29,33,0\\r\\nFemale,95,72,0,0,36.8,0.485,57,0\\r\\nFemale,126,88,36,108,38.5,0.349,49,0\\r\\nFemale,139,46,19,83,28.7,0.654,22,0\\r\\nFemale,116,,0,0,23.5,0.187,23,0\\r\\nFemale,99,62,19,74,,0.279,26,0\\r\\nFemale,0,80,32,0,41,0.346,37,1\\r\\nFemale,92,80,0,0,42.2,0.237,29,0\\r\\nFemale,137,84,0,0,31.2,0.252,30,0\\r\\nFemale,61,82,28,0,34.4,0.243,46,0\\r\\nFemale,90,62,12,43,27.2,0.58,24,0\\r\\nFemale,90,78,0,0,42.7,0.559,21,0\\r\\nFemale,165,88,0,0,30.4,0.302,49,1\\r\\nFemale,125,50,40,167,33.3,0.962,28,1\\r\\nFemale,129,0,30,0,39.9,0.569,44,1\\r\\nFemale,88,74,40,54,35.3,0.378,48,0\\r\\nFemale,196,76,36,249,,0.875,29,1\\r\\nFemale,189,64,,325,31.2,0.583,29,1\\r\\nFemale,158,70,0,0,29.8,0.207,63,0\\r\\nFemale,103,108,37,0,39.2,0.305,65,0\\r\\nFemale,146,78,0,0,38.5,0.52,67,1\\r\\nFemale,147,74,25,293,34.9,0.385,30,0\\r\\nFemale,99,54,28,83,34,0.499,30,0\\r\\nFemale,124,72,0,0,27.6,0.368,29,1\\r\\nFemale,101,64,17,0,21,0.252,21,0\\r\\nFemale,81,86,16,66,27.5,0.306,22,0\\r\\nFemale,133,102,28,140,32.8,0.234,45,1\\r\\nFemale,173,82,48,465,38.4,2.137,25,1\\r\\nFemale,118,64,23,89,0,1.731,21,0\\r\\nFemale,84,64,22,66,35.8,0.545,21,0\\r\\nFemale,105,58,40,94,,0.225,25,0\\r\\nFemale,122,52,43,158,36.2,0.816,28,0\\r\\nFemale,140,82,,325,39.2,0.528,58,1\\r\\nFemale,98,82,15,84,25.2,0.299,22,0\\r\\nFemale,87,60,37,75,37.2,0.509,22,0\\r\\nFemale,156,75,0,0,48.3,0.238,32,1\\r\\nFemale,93,100,39,72,43.4,1.021,35,0\\r\\nFemale,107,72,30,82,30.8,0.821,24,0\\r\\nFemale,105,68,22,0,20,0.236,22,0\\r\\nFemale,109,60,8,182,25.4,0.947,21,0\\r\\nFemale,90,62,18,59,25.1,1.268,25,0\\r\\nFemale,125,70,24,110,24.3,0.221,25,0\\r\\nFemale,119,54,13,50,22.3,0.205,24,0\\r\\nFemale,116,74,29,0,,0.66,35,1\\r\\nFemale,105,,36,0,43.3,0.239,45,1\\r\\nFemale,144,82,26,285,32,0.452,58,1\\r\\nFemale,100,68,23,81,31.6,0.949,28,0\\r\\nFemale,100,66,29,196,32,0.444,42,0\\r\\nFemale,166,76,0,0,45.7,0.34,27,1\\r\\nFemale,131,64,14,415,23.7,0.389,21,0\\r\\nFemale,116,72,12,87,22.1,0.463,37,0\\r\\nFemale,158,78,0,0,32.9,0.803,31,1\\r\\nFemale,127,58,24,275,27.7,1.6,25,0\\r\\nFemale,96,56,34,115,24.7,0.944,39,0\\r\\nFemale,131,66,40,0,34.3,0.196,22,1\\r\\nFemale,82,70,0,0,,0.389,25,0\\r\\nMale,193,70,31,0,34.9,0.241,25,1\\r\\nMale,95,64,0,0,32,0.161,31,1\\r\\nMale,137,61,0,0,24.2,0.151,55,0\\r\\nMale,136,84,41,88,35,0.286,35,1\\r\\nMale,72,78,25,0,31.6,0.28,38,0\\r\\nMale,168,64,0,0,32.9,0.135,41,1\\r\\nMale,123,48,32,165,42.1,0.52,26,0\\r\\nMale,115,72,0,0,28.9,0.376,46,1\\r\\nMale,101,62,0,0,21.9,0.336,25,0\\r\\nMale,197,74,0,0,25.9,1.191,39,1\\r\\nMale,172,,49,579,42.4,0.702,28,1\\r\\nMale,102,90,39,0,35.7,0.674,28,0\\r\\nMale,112,72,30,176,34.4,0.528,25,0\\r\\nMale,143,84,23,310,42.4,1.076,22,0\\r\\nMale,143,74,22,61,26.2,0.256,21,0\\r\\nMale,138,60,35,167,34.6,0.534,21,1\\r\\nMale,173,84,33,474,35.7,0.258,22,1\\r\\nMale,97,68,21,0,27.2,1.095,22,0\\r\\nMale,144,82,32,0,38.5,0.554,37,1\\r\\nMale,83,68,0,0,18.2,0.624,27,0\\r\\nMale,129,64,29,115,26.4,0.219,28,1\\r\\nMale,119,88,41,170,45.3,0.507,26,0\\r\\nMale,94,68,18,76,26,0.561,21,0\\r\\nMale,102,64,46,78,40.6,0.496,21,0\\r\\nMale,115,64,22,0,30.8,0.421,21,0\\r\\nMale,151,78,32,210,,0.516,36,1\\r\\nMale,184,78,39,277,37,0.264,31,1\\r\\nMale,94,0,0,0,0,0.256,25,0\\r\\nMale,181,64,30,180,34.1,,38,1\\r\\nMale,135,94,46,145,40.6,0.284,26,0\\r\\nMale,95,82,25,180,35,,43,1\\r\\nMale,99,0,0,0,22.2,0.108,23,0\\r\\nMale,89,74,16,85,30.4,0.551,38,0\\r\\nMale,80,74,11,60,30,0.527,22,0\\r\\nMale,139,75,0,0,25.6,0.167,29,0\\r\\nMale,90,68,8,0,24.5,1.138,36,0\\r\\nMale,141,0,0,0,42.4,0.205,29,1\\r\\nMale,140,85,33,0,37.4,0.244,41,0\\r\\nMale,147,75,0,0,29.9,0.434,28,0\\r\\nMale,97,70,15,0,18.2,0.147,21,0\\r\\nMale,107,88,0,0,36.8,0.727,31,0\\r\\nMale,189,104,25,0,34.3,0.435,41,1\\r\\nMale,83,66,23,50,32.2,0.497,22,0\\r\\nMale,117,64,27,120,33.2,0.23,24,0\\r\\nMale,108,70,0,0,30.5,0.955,33,1\\r\\nMale,117,62,12,0,29.7,0.38,30,1\\r\\nMale,180,78,63,14,59.4,2.42,25,1\\r\\nMale,100,72,12,70,25.3,0.658,28,0\\r\\nMale,95,80,45,92,36.5,0.33,26,0\\r\\nMale,104,64,37,64,33.6,0.51,22,1\\r\\nMale,120,74,18,63,30.5,0.285,26,0\\r\\nMale,82,64,13,95,21.2,0.415,23,0\\r\\nMale,134,70,0,0,28.9,0.542,23,1\\r\\nMale,91,68,32,210,39.9,0.381,25,0\\r\\nMale,119,0,0,0,19.6,0.832,72,0\\r\\nMale,100,54,28,105,37.8,0.498,24,0\\r\\nMale,175,62,30,0,33.6,0.212,38,1\\r\\nMale,135,54,0,0,26.7,0.687,62,0\\r\\nMale,86,68,28,71,30.2,0.364,24,0\\r\\nMale,148,84,48,237,37.6,,51,1\\r\\nMale,134,74,33,60,25.9,0.46,81,0\\r\\nMale,120,72,22,56,20.8,0.733,48,0\\r\\nMale,71,62,0,0,21.8,0.416,26,0\\r\\nMale,74,70,40,49,35.3,0.705,39,0\\r\\nMale,88,78,30,0,27.6,0.258,37,0\\r\\nMale,115,98,0,0,24,1.022,34,0\\r\\nMale,124,56,13,105,21.8,0.452,21,0\\r\\nMale,74,52,10,36,27.8,0.269,22,0\\r\\nMale,97,64,36,100,36.8,0.6,25,0\\r\\nMale,120,0,0,0,30,0.183,38,1\\r\\nMale,154,78,41,140,,0.571,27,0\\r\\nMale,144,82,40,0,41.3,0.607,28,0\\r\\nMale,137,70,38,0,33.2,0.17,22,0\\r\\nMale,119,66,27,0,38.8,0.259,22,0\\r\\nMale,136,90,0,0,29.9,0.21,50,0\\r\\nMale,114,64,0,0,28.9,0.126,24,0\\r\\nMale,137,84,27,0,27.3,0.231,59,0\\r\\nMale,105,80,45,191,33.7,0.711,29,1\\r\\nMale,114,76,17,110,23.8,0.466,31,0\\r\\nMale,126,74,38,75,25.9,0.162,39,0\\r\\nMale,132,86,31,0,28,0.419,63,0\\r\\nMale,158,70,30,328,35.5,0.344,35,1\\r\\nMale,123,88,37,0,35.2,0.197,29,0\\r\\nMale,85,58,22,,27.8,,28,0\\r\\nMale,84,82,31,125,38.2,0.233,23,0\\r\\nMale,145,0,0,0,44.2,0.63,31,1\\r\\nMale,135,68,42,250,42.3,0.365,24,1\\r\\nMale,139,62,41,480,40.7,0.536,21,0\\r\\nMale,173,78,32,265,46.5,1.159,58,0\\r\\nMale,99,72,17,0,25.6,0.294,28,0\\r\\nMale,194,80,0,0,26.1,0.551,67,0\\r\\nMale,83,65,28,66,36.8,0.629,24,0\\r\\nMale,89,90,30,0,33.5,0.292,42,0\\r\\nMale,99,68,38,0,32.8,0.145,33,0\\r\\nMale,125,70,18,122,28.9,1.144,45,1\\r\\nMale,80,0,0,0,0,,22,0\\r\\nMale,166,74,0,0,26.6,0.304,66,0\\r\\nMale,110,68,0,0,26,0.292,30,0\\r\\nMale,81,72,15,76,30.1,0.547,25,0\\r\\nMale,195,70,33,145,25.1,0.163,55,1\\r\\nMale,154,74,32,193,29.3,0.839,39,0\\r\\nMale,117,90,19,71,25.2,0.313,21,0\\r\\nMale,84,72,32,0,37.2,0.267,28,0\\r\\nMale,0,68,,0,39,0.727,41,1\\r\\nMale,94,64,25,79,33.3,0.738,41,0\\r\\nMale,96,78,39,0,37.3,0.238,40,0\\r\\nMale,75,82,0,0,33.3,0.263,38,0\\r\\nMale,180,90,26,90,36.5,0.314,35,1\\r\\nMale,130,60,23,170,28.6,0.692,21,0\\r\\nMale,84,50,23,76,30.4,0.968,21,0\\r\\nMale,120,78,0,0,25,0.409,64,0\\r\\nMale,84,72,31,0,29.7,0.297,46,1\\r\\nMale,139,62,17,210,22.1,0.207,21,0\\r\\nMale,91,68,0,0,24.2,,58,0\\r\\nMale,91,62,0,0,27.3,0.525,22,0\\r\\nMale,99,54,19,86,25.6,0.154,24,0\\r\\nMale,163,70,18,105,31.6,0.268,28,1\\r\\nFemale,145,88,34,165,30.3,0.771,53,1\\r\\nFemale,125,86,0,0,37.6,0.304,51,0\\r\\nFemale,76,60,0,0,32.8,0.18,41,0\\r\\nFemale,129,90,7,326,19.6,0.582,60,0\\r\\nFemale,68,70,32,66,25,0.187,25,0\\r\\nFemale,124,80,33,130,33.2,0.305,26,0\\r\\nFemale,114,0,0,0,0,0.189,26,0\\r\\nMale,130,70,,,34.2,0.652,45,1\\r\\nMale,125,58,0,0,31.6,0.151,24,0\\r\\nMale,87,60,18,0,21.8,0.444,21,0\\r\\nMale,97,64,19,82,18.2,0.299,21,0\\r\\nMale,116,74,15,105,26.3,0.107,24,0\\r\\nMale,117,66,31,188,30.8,0.493,22,0\\r\\nMale,111,65,0,0,24.6,0.66,31,0\\r\\nMale,122,60,18,106,29.8,0.717,22,0\\r\\nMale,107,76,0,0,45.3,0.686,24,0\\r\\nMale,86,66,52,65,41.3,,29,0\\r\\nMale,91,0,0,0,29.8,0.501,31,0\\r\\nMale,77,56,30,,33.3,1.251,24,0\\r\\nMale,132,0,0,0,32.9,0.302,23,1\\r\\nMale,105,90,0,0,29.6,0.197,46,0\\r\\nMale,57,60,0,0,21.7,0.735,67,0\\r\\nMale,127,80,37,210,36.3,0.804,23,0\\r\\nMale,129,92,49,155,36.4,0.968,32,1\\r\\nMale,100,74,40,215,39.4,0.661,43,1\\r\\nMale,128,72,25,190,32.4,0.549,27,1\\r\\nMale,90,85,32,0,34.9,0.825,56,1\\r\\nMale,84,90,23,56,39.5,0.159,25,0\\r\\nMale,88,78,29,76,32,0.365,29,0\\r\\nMale,186,90,35,225,34.5,0.423,37,1\\r\\nMale,187,76,27,207,43.6,1.034,53,1\\r\\nMale,131,68,21,166,33.1,0.16,28,0\\r\\nMale,164,82,43,67,32.8,,50,0\\r\\nMale,189,110,31,,28.5,0.68,37,0\\r\\nMale,116,70,28,0,,0.204,21,0\\r\\nMale,84,68,30,106,31.9,0.591,25,0\\r\\nMale,114,88,0,0,27.8,0.247,66,0\\r\\nMale,88,62,24,44,29.9,0.422,23,0\\r\\nMale,84,64,23,115,36.9,0.471,28,0\\r\\nMale,124,70,33,215,25.5,0.161,37,0\\r\\nMale,97,70,40,0,38.1,0.218,30,0\\r\\nMale,110,76,0,0,27.8,0.237,58,0\\r\\nMale,103,68,40,0,46.2,0.126,42,0\\r\\nMale,85,74,0,0,30.1,0.3,35,0\\r\\nMale,125,76,0,0,33.8,0.121,54,1\\r\\nMale,198,66,32,274,41.3,0.502,28,1\\r\\nMale,87,68,34,77,37.6,0.401,24,0\\r\\nMale,99,60,19,54,26.9,0.497,32,0'}"
            ]
          },
          "metadata": {
            "tags": []
          },
          "execution_count": 7
        }
      ]
    },
    {
      "cell_type": "code",
      "metadata": {
        "colab": {
          "base_uri": "https://localhost:8080/",
          "height": 511
        },
        "id": "82bGSA1OykE0",
        "outputId": "6ba9ffdc-4fae-489c-cf1b-f329b68d1c3c"
      },
      "source": [
        "data = pd.read_csv(\"PCA and NN dataset1.csv.csv\")\n",
        "data.head(15)"
      ],
      "execution_count": 9,
      "outputs": [
        {
          "output_type": "execute_result",
          "data": {
            "text/html": [
              "<div>\n",
              "<style scoped>\n",
              "    .dataframe tbody tr th:only-of-type {\n",
              "        vertical-align: middle;\n",
              "    }\n",
              "\n",
              "    .dataframe tbody tr th {\n",
              "        vertical-align: top;\n",
              "    }\n",
              "\n",
              "    .dataframe thead th {\n",
              "        text-align: right;\n",
              "    }\n",
              "</style>\n",
              "<table border=\"1\" class=\"dataframe\">\n",
              "  <thead>\n",
              "    <tr style=\"text-align: right;\">\n",
              "      <th></th>\n",
              "      <th>Gender</th>\n",
              "      <th>Glucose</th>\n",
              "      <th>BP</th>\n",
              "      <th>SkinThickness</th>\n",
              "      <th>Insulin</th>\n",
              "      <th>BMI</th>\n",
              "      <th>PedigreeFunction</th>\n",
              "      <th>Age</th>\n",
              "      <th>Outcome</th>\n",
              "    </tr>\n",
              "  </thead>\n",
              "  <tbody>\n",
              "    <tr>\n",
              "      <th>0</th>\n",
              "      <td>Male</td>\n",
              "      <td>148</td>\n",
              "      <td>72.0</td>\n",
              "      <td>35.0</td>\n",
              "      <td>0.0</td>\n",
              "      <td>33.6</td>\n",
              "      <td>0.627</td>\n",
              "      <td>50</td>\n",
              "      <td>1</td>\n",
              "    </tr>\n",
              "    <tr>\n",
              "      <th>1</th>\n",
              "      <td>Female</td>\n",
              "      <td>85</td>\n",
              "      <td>66.0</td>\n",
              "      <td>29.0</td>\n",
              "      <td>0.0</td>\n",
              "      <td>26.6</td>\n",
              "      <td>0.351</td>\n",
              "      <td>31</td>\n",
              "      <td>0</td>\n",
              "    </tr>\n",
              "    <tr>\n",
              "      <th>2</th>\n",
              "      <td>Female</td>\n",
              "      <td>183</td>\n",
              "      <td>64.0</td>\n",
              "      <td>0.0</td>\n",
              "      <td>0.0</td>\n",
              "      <td>23.3</td>\n",
              "      <td>0.672</td>\n",
              "      <td>32</td>\n",
              "      <td>1</td>\n",
              "    </tr>\n",
              "    <tr>\n",
              "      <th>3</th>\n",
              "      <td>Female</td>\n",
              "      <td>89</td>\n",
              "      <td>66.0</td>\n",
              "      <td>23.0</td>\n",
              "      <td>94.0</td>\n",
              "      <td>28.1</td>\n",
              "      <td>0.167</td>\n",
              "      <td>21</td>\n",
              "      <td>0</td>\n",
              "    </tr>\n",
              "    <tr>\n",
              "      <th>4</th>\n",
              "      <td>Male</td>\n",
              "      <td>137</td>\n",
              "      <td>NaN</td>\n",
              "      <td>35.0</td>\n",
              "      <td>168.0</td>\n",
              "      <td>43.1</td>\n",
              "      <td>2.288</td>\n",
              "      <td>33</td>\n",
              "      <td>1</td>\n",
              "    </tr>\n",
              "    <tr>\n",
              "      <th>5</th>\n",
              "      <td>Female</td>\n",
              "      <td>116</td>\n",
              "      <td>74.0</td>\n",
              "      <td>0.0</td>\n",
              "      <td>0.0</td>\n",
              "      <td>25.6</td>\n",
              "      <td>0.201</td>\n",
              "      <td>30</td>\n",
              "      <td>0</td>\n",
              "    </tr>\n",
              "    <tr>\n",
              "      <th>6</th>\n",
              "      <td>Female</td>\n",
              "      <td>78</td>\n",
              "      <td>50.0</td>\n",
              "      <td>32.0</td>\n",
              "      <td>88.0</td>\n",
              "      <td>31.0</td>\n",
              "      <td>0.248</td>\n",
              "      <td>26</td>\n",
              "      <td>1</td>\n",
              "    </tr>\n",
              "    <tr>\n",
              "      <th>7</th>\n",
              "      <td>Female</td>\n",
              "      <td>115</td>\n",
              "      <td>0.0</td>\n",
              "      <td>0.0</td>\n",
              "      <td>0.0</td>\n",
              "      <td>35.3</td>\n",
              "      <td>0.134</td>\n",
              "      <td>29</td>\n",
              "      <td>0</td>\n",
              "    </tr>\n",
              "    <tr>\n",
              "      <th>8</th>\n",
              "      <td>Female</td>\n",
              "      <td>197</td>\n",
              "      <td>70.0</td>\n",
              "      <td>45.0</td>\n",
              "      <td>543.0</td>\n",
              "      <td>30.5</td>\n",
              "      <td>0.158</td>\n",
              "      <td>53</td>\n",
              "      <td>1</td>\n",
              "    </tr>\n",
              "    <tr>\n",
              "      <th>9</th>\n",
              "      <td>Female</td>\n",
              "      <td>125</td>\n",
              "      <td>96.0</td>\n",
              "      <td>0.0</td>\n",
              "      <td>0.0</td>\n",
              "      <td>0.0</td>\n",
              "      <td>0.232</td>\n",
              "      <td>54</td>\n",
              "      <td>1</td>\n",
              "    </tr>\n",
              "    <tr>\n",
              "      <th>10</th>\n",
              "      <td>Female</td>\n",
              "      <td>110</td>\n",
              "      <td>NaN</td>\n",
              "      <td>0.0</td>\n",
              "      <td>0.0</td>\n",
              "      <td>37.6</td>\n",
              "      <td>0.191</td>\n",
              "      <td>30</td>\n",
              "      <td>0</td>\n",
              "    </tr>\n",
              "    <tr>\n",
              "      <th>11</th>\n",
              "      <td>Female</td>\n",
              "      <td>168</td>\n",
              "      <td>74.0</td>\n",
              "      <td>0.0</td>\n",
              "      <td>0.0</td>\n",
              "      <td>38.0</td>\n",
              "      <td>0.537</td>\n",
              "      <td>34</td>\n",
              "      <td>1</td>\n",
              "    </tr>\n",
              "    <tr>\n",
              "      <th>12</th>\n",
              "      <td>Female</td>\n",
              "      <td>139</td>\n",
              "      <td>80.0</td>\n",
              "      <td>0.0</td>\n",
              "      <td>0.0</td>\n",
              "      <td>27.1</td>\n",
              "      <td>1.441</td>\n",
              "      <td>57</td>\n",
              "      <td>0</td>\n",
              "    </tr>\n",
              "    <tr>\n",
              "      <th>13</th>\n",
              "      <td>Male</td>\n",
              "      <td>189</td>\n",
              "      <td>60.0</td>\n",
              "      <td>23.0</td>\n",
              "      <td>846.0</td>\n",
              "      <td>30.1</td>\n",
              "      <td>0.398</td>\n",
              "      <td>59</td>\n",
              "      <td>1</td>\n",
              "    </tr>\n",
              "    <tr>\n",
              "      <th>14</th>\n",
              "      <td>Male</td>\n",
              "      <td>166</td>\n",
              "      <td>NaN</td>\n",
              "      <td>19.0</td>\n",
              "      <td>175.0</td>\n",
              "      <td>25.8</td>\n",
              "      <td>0.587</td>\n",
              "      <td>51</td>\n",
              "      <td>1</td>\n",
              "    </tr>\n",
              "  </tbody>\n",
              "</table>\n",
              "</div>"
            ],
            "text/plain": [
              "    Gender  Glucose    BP  SkinThickness  ...   BMI  PedigreeFunction  Age  Outcome\n",
              "0     Male      148  72.0           35.0  ...  33.6             0.627   50        1\n",
              "1   Female       85  66.0           29.0  ...  26.6             0.351   31        0\n",
              "2   Female      183  64.0            0.0  ...  23.3             0.672   32        1\n",
              "3   Female       89  66.0           23.0  ...  28.1             0.167   21        0\n",
              "4     Male      137   NaN           35.0  ...  43.1             2.288   33        1\n",
              "5   Female      116  74.0            0.0  ...  25.6             0.201   30        0\n",
              "6   Female       78  50.0           32.0  ...  31.0             0.248   26        1\n",
              "7   Female      115   0.0            0.0  ...  35.3             0.134   29        0\n",
              "8   Female      197  70.0           45.0  ...  30.5             0.158   53        1\n",
              "9   Female      125  96.0            0.0  ...   0.0             0.232   54        1\n",
              "10  Female      110   NaN            0.0  ...  37.6             0.191   30        0\n",
              "11  Female      168  74.0            0.0  ...  38.0             0.537   34        1\n",
              "12  Female      139  80.0            0.0  ...  27.1             1.441   57        0\n",
              "13    Male      189  60.0           23.0  ...  30.1             0.398   59        1\n",
              "14    Male      166   NaN           19.0  ...  25.8             0.587   51        1\n",
              "\n",
              "[15 rows x 9 columns]"
            ]
          },
          "metadata": {
            "tags": []
          },
          "execution_count": 9
        }
      ]
    },
    {
      "cell_type": "code",
      "metadata": {
        "id": "IbZB8Q0c0drA"
      },
      "source": [
        "data['BP'] = data['BP'].fillna(data['BP'].mean())\n",
        "data['SkinThickness'] = data['SkinThickness'].fillna(data['SkinThickness'].mean())\n",
        "data['Insulin'] = data['Insulin'].fillna(data['Insulin'].mean())\n",
        "data['BMI'] = data['BMI'].fillna(data['BMI'].mean())\n",
        "data['PedigreeFunction'] = data['PedigreeFunction'].fillna(data['PedigreeFunction'].mean())"
      ],
      "execution_count": 12,
      "outputs": []
    },
    {
      "cell_type": "code",
      "metadata": {
        "colab": {
          "base_uri": "https://localhost:8080/",
          "height": 511
        },
        "id": "Qd5VjILF0wUz",
        "outputId": "c6fa988c-136f-4b04-881b-a21c610d16de"
      },
      "source": [
        "data.head(15)"
      ],
      "execution_count": 13,
      "outputs": [
        {
          "output_type": "execute_result",
          "data": {
            "text/html": [
              "<div>\n",
              "<style scoped>\n",
              "    .dataframe tbody tr th:only-of-type {\n",
              "        vertical-align: middle;\n",
              "    }\n",
              "\n",
              "    .dataframe tbody tr th {\n",
              "        vertical-align: top;\n",
              "    }\n",
              "\n",
              "    .dataframe thead th {\n",
              "        text-align: right;\n",
              "    }\n",
              "</style>\n",
              "<table border=\"1\" class=\"dataframe\">\n",
              "  <thead>\n",
              "    <tr style=\"text-align: right;\">\n",
              "      <th></th>\n",
              "      <th>Gender</th>\n",
              "      <th>Glucose</th>\n",
              "      <th>BP</th>\n",
              "      <th>SkinThickness</th>\n",
              "      <th>Insulin</th>\n",
              "      <th>BMI</th>\n",
              "      <th>PedigreeFunction</th>\n",
              "      <th>Age</th>\n",
              "      <th>Outcome</th>\n",
              "    </tr>\n",
              "  </thead>\n",
              "  <tbody>\n",
              "    <tr>\n",
              "      <th>0</th>\n",
              "      <td>Male</td>\n",
              "      <td>148</td>\n",
              "      <td>72.000000</td>\n",
              "      <td>35.0</td>\n",
              "      <td>0.0</td>\n",
              "      <td>33.6</td>\n",
              "      <td>0.627</td>\n",
              "      <td>50</td>\n",
              "      <td>1</td>\n",
              "    </tr>\n",
              "    <tr>\n",
              "      <th>1</th>\n",
              "      <td>Female</td>\n",
              "      <td>85</td>\n",
              "      <td>66.000000</td>\n",
              "      <td>29.0</td>\n",
              "      <td>0.0</td>\n",
              "      <td>26.6</td>\n",
              "      <td>0.351</td>\n",
              "      <td>31</td>\n",
              "      <td>0</td>\n",
              "    </tr>\n",
              "    <tr>\n",
              "      <th>2</th>\n",
              "      <td>Female</td>\n",
              "      <td>183</td>\n",
              "      <td>64.000000</td>\n",
              "      <td>0.0</td>\n",
              "      <td>0.0</td>\n",
              "      <td>23.3</td>\n",
              "      <td>0.672</td>\n",
              "      <td>32</td>\n",
              "      <td>1</td>\n",
              "    </tr>\n",
              "    <tr>\n",
              "      <th>3</th>\n",
              "      <td>Female</td>\n",
              "      <td>89</td>\n",
              "      <td>66.000000</td>\n",
              "      <td>23.0</td>\n",
              "      <td>94.0</td>\n",
              "      <td>28.1</td>\n",
              "      <td>0.167</td>\n",
              "      <td>21</td>\n",
              "      <td>0</td>\n",
              "    </tr>\n",
              "    <tr>\n",
              "      <th>4</th>\n",
              "      <td>Male</td>\n",
              "      <td>137</td>\n",
              "      <td>68.768248</td>\n",
              "      <td>35.0</td>\n",
              "      <td>168.0</td>\n",
              "      <td>43.1</td>\n",
              "      <td>2.288</td>\n",
              "      <td>33</td>\n",
              "      <td>1</td>\n",
              "    </tr>\n",
              "    <tr>\n",
              "      <th>5</th>\n",
              "      <td>Female</td>\n",
              "      <td>116</td>\n",
              "      <td>74.000000</td>\n",
              "      <td>0.0</td>\n",
              "      <td>0.0</td>\n",
              "      <td>25.6</td>\n",
              "      <td>0.201</td>\n",
              "      <td>30</td>\n",
              "      <td>0</td>\n",
              "    </tr>\n",
              "    <tr>\n",
              "      <th>6</th>\n",
              "      <td>Female</td>\n",
              "      <td>78</td>\n",
              "      <td>50.000000</td>\n",
              "      <td>32.0</td>\n",
              "      <td>88.0</td>\n",
              "      <td>31.0</td>\n",
              "      <td>0.248</td>\n",
              "      <td>26</td>\n",
              "      <td>1</td>\n",
              "    </tr>\n",
              "    <tr>\n",
              "      <th>7</th>\n",
              "      <td>Female</td>\n",
              "      <td>115</td>\n",
              "      <td>0.000000</td>\n",
              "      <td>0.0</td>\n",
              "      <td>0.0</td>\n",
              "      <td>35.3</td>\n",
              "      <td>0.134</td>\n",
              "      <td>29</td>\n",
              "      <td>0</td>\n",
              "    </tr>\n",
              "    <tr>\n",
              "      <th>8</th>\n",
              "      <td>Female</td>\n",
              "      <td>197</td>\n",
              "      <td>70.000000</td>\n",
              "      <td>45.0</td>\n",
              "      <td>543.0</td>\n",
              "      <td>30.5</td>\n",
              "      <td>0.158</td>\n",
              "      <td>53</td>\n",
              "      <td>1</td>\n",
              "    </tr>\n",
              "    <tr>\n",
              "      <th>9</th>\n",
              "      <td>Female</td>\n",
              "      <td>125</td>\n",
              "      <td>96.000000</td>\n",
              "      <td>0.0</td>\n",
              "      <td>0.0</td>\n",
              "      <td>0.0</td>\n",
              "      <td>0.232</td>\n",
              "      <td>54</td>\n",
              "      <td>1</td>\n",
              "    </tr>\n",
              "    <tr>\n",
              "      <th>10</th>\n",
              "      <td>Female</td>\n",
              "      <td>110</td>\n",
              "      <td>68.768248</td>\n",
              "      <td>0.0</td>\n",
              "      <td>0.0</td>\n",
              "      <td>37.6</td>\n",
              "      <td>0.191</td>\n",
              "      <td>30</td>\n",
              "      <td>0</td>\n",
              "    </tr>\n",
              "    <tr>\n",
              "      <th>11</th>\n",
              "      <td>Female</td>\n",
              "      <td>168</td>\n",
              "      <td>74.000000</td>\n",
              "      <td>0.0</td>\n",
              "      <td>0.0</td>\n",
              "      <td>38.0</td>\n",
              "      <td>0.537</td>\n",
              "      <td>34</td>\n",
              "      <td>1</td>\n",
              "    </tr>\n",
              "    <tr>\n",
              "      <th>12</th>\n",
              "      <td>Female</td>\n",
              "      <td>139</td>\n",
              "      <td>80.000000</td>\n",
              "      <td>0.0</td>\n",
              "      <td>0.0</td>\n",
              "      <td>27.1</td>\n",
              "      <td>1.441</td>\n",
              "      <td>57</td>\n",
              "      <td>0</td>\n",
              "    </tr>\n",
              "    <tr>\n",
              "      <th>13</th>\n",
              "      <td>Male</td>\n",
              "      <td>189</td>\n",
              "      <td>60.000000</td>\n",
              "      <td>23.0</td>\n",
              "      <td>846.0</td>\n",
              "      <td>30.1</td>\n",
              "      <td>0.398</td>\n",
              "      <td>59</td>\n",
              "      <td>1</td>\n",
              "    </tr>\n",
              "    <tr>\n",
              "      <th>14</th>\n",
              "      <td>Male</td>\n",
              "      <td>166</td>\n",
              "      <td>68.768248</td>\n",
              "      <td>19.0</td>\n",
              "      <td>175.0</td>\n",
              "      <td>25.8</td>\n",
              "      <td>0.587</td>\n",
              "      <td>51</td>\n",
              "      <td>1</td>\n",
              "    </tr>\n",
              "  </tbody>\n",
              "</table>\n",
              "</div>"
            ],
            "text/plain": [
              "    Gender  Glucose         BP  ...  PedigreeFunction  Age  Outcome\n",
              "0     Male      148  72.000000  ...             0.627   50        1\n",
              "1   Female       85  66.000000  ...             0.351   31        0\n",
              "2   Female      183  64.000000  ...             0.672   32        1\n",
              "3   Female       89  66.000000  ...             0.167   21        0\n",
              "4     Male      137  68.768248  ...             2.288   33        1\n",
              "5   Female      116  74.000000  ...             0.201   30        0\n",
              "6   Female       78  50.000000  ...             0.248   26        1\n",
              "7   Female      115   0.000000  ...             0.134   29        0\n",
              "8   Female      197  70.000000  ...             0.158   53        1\n",
              "9   Female      125  96.000000  ...             0.232   54        1\n",
              "10  Female      110  68.768248  ...             0.191   30        0\n",
              "11  Female      168  74.000000  ...             0.537   34        1\n",
              "12  Female      139  80.000000  ...             1.441   57        0\n",
              "13    Male      189  60.000000  ...             0.398   59        1\n",
              "14    Male      166  68.768248  ...             0.587   51        1\n",
              "\n",
              "[15 rows x 9 columns]"
            ]
          },
          "metadata": {
            "tags": []
          },
          "execution_count": 13
        }
      ]
    },
    {
      "cell_type": "code",
      "metadata": {
        "colab": {
          "base_uri": "https://localhost:8080/"
        },
        "id": "EooFZCOa2632",
        "outputId": "628f932f-194d-46c2-d3a8-3cff2effff74"
      },
      "source": [
        "data.isnull().sum()"
      ],
      "execution_count": 14,
      "outputs": [
        {
          "output_type": "execute_result",
          "data": {
            "text/plain": [
              "Gender              0\n",
              "Glucose             0\n",
              "BP                  0\n",
              "SkinThickness       0\n",
              "Insulin             0\n",
              "BMI                 0\n",
              "PedigreeFunction    0\n",
              "Age                 0\n",
              "Outcome             0\n",
              "dtype: int64"
            ]
          },
          "metadata": {
            "tags": []
          },
          "execution_count": 14
        }
      ]
    },
    {
      "cell_type": "code",
      "metadata": {
        "id": "ROiGited9exO"
      },
      "source": [
        ""
      ],
      "execution_count": null,
      "outputs": []
    },
    {
      "cell_type": "code",
      "metadata": {
        "colab": {
          "base_uri": "https://localhost:8080/",
          "height": 172
        },
        "id": "9TM0n-eN2-og",
        "outputId": "ee32a192-7c3c-4504-b193-86a9b0956f11"
      },
      "source": [
        "label_encoder_X= LabelEncoder()  \n",
        "data[\"Gender\"]= label_encoder_X.fit_transform(data.iloc[:, 0].values)  \n",
        "data.head(4)"
      ],
      "execution_count": 15,
      "outputs": [
        {
          "output_type": "execute_result",
          "data": {
            "text/html": [
              "<div>\n",
              "<style scoped>\n",
              "    .dataframe tbody tr th:only-of-type {\n",
              "        vertical-align: middle;\n",
              "    }\n",
              "\n",
              "    .dataframe tbody tr th {\n",
              "        vertical-align: top;\n",
              "    }\n",
              "\n",
              "    .dataframe thead th {\n",
              "        text-align: right;\n",
              "    }\n",
              "</style>\n",
              "<table border=\"1\" class=\"dataframe\">\n",
              "  <thead>\n",
              "    <tr style=\"text-align: right;\">\n",
              "      <th></th>\n",
              "      <th>Gender</th>\n",
              "      <th>Glucose</th>\n",
              "      <th>BP</th>\n",
              "      <th>SkinThickness</th>\n",
              "      <th>Insulin</th>\n",
              "      <th>BMI</th>\n",
              "      <th>PedigreeFunction</th>\n",
              "      <th>Age</th>\n",
              "      <th>Outcome</th>\n",
              "    </tr>\n",
              "  </thead>\n",
              "  <tbody>\n",
              "    <tr>\n",
              "      <th>0</th>\n",
              "      <td>1</td>\n",
              "      <td>148</td>\n",
              "      <td>72.0</td>\n",
              "      <td>35.0</td>\n",
              "      <td>0.0</td>\n",
              "      <td>33.6</td>\n",
              "      <td>0.627</td>\n",
              "      <td>50</td>\n",
              "      <td>1</td>\n",
              "    </tr>\n",
              "    <tr>\n",
              "      <th>1</th>\n",
              "      <td>0</td>\n",
              "      <td>85</td>\n",
              "      <td>66.0</td>\n",
              "      <td>29.0</td>\n",
              "      <td>0.0</td>\n",
              "      <td>26.6</td>\n",
              "      <td>0.351</td>\n",
              "      <td>31</td>\n",
              "      <td>0</td>\n",
              "    </tr>\n",
              "    <tr>\n",
              "      <th>2</th>\n",
              "      <td>0</td>\n",
              "      <td>183</td>\n",
              "      <td>64.0</td>\n",
              "      <td>0.0</td>\n",
              "      <td>0.0</td>\n",
              "      <td>23.3</td>\n",
              "      <td>0.672</td>\n",
              "      <td>32</td>\n",
              "      <td>1</td>\n",
              "    </tr>\n",
              "    <tr>\n",
              "      <th>3</th>\n",
              "      <td>0</td>\n",
              "      <td>89</td>\n",
              "      <td>66.0</td>\n",
              "      <td>23.0</td>\n",
              "      <td>94.0</td>\n",
              "      <td>28.1</td>\n",
              "      <td>0.167</td>\n",
              "      <td>21</td>\n",
              "      <td>0</td>\n",
              "    </tr>\n",
              "  </tbody>\n",
              "</table>\n",
              "</div>"
            ],
            "text/plain": [
              "   Gender  Glucose    BP  SkinThickness  ...   BMI  PedigreeFunction  Age  Outcome\n",
              "0       1      148  72.0           35.0  ...  33.6             0.627   50        1\n",
              "1       0       85  66.0           29.0  ...  26.6             0.351   31        0\n",
              "2       0      183  64.0            0.0  ...  23.3             0.672   32        1\n",
              "3       0       89  66.0           23.0  ...  28.1             0.167   21        0\n",
              "\n",
              "[4 rows x 9 columns]"
            ]
          },
          "metadata": {
            "tags": []
          },
          "execution_count": 15
        }
      ]
    },
    {
      "cell_type": "code",
      "metadata": {
        "id": "28bbX2z_9gT3"
      },
      "source": [
        "# Natural Language Processing\n",
        "\n",
        "# Importing the libraries\n",
        "import numpy as np\n",
        "import matplotlib.pyplot as plt\n",
        "import pandas as pd\n"
      ],
      "execution_count": 17,
      "outputs": []
    },
    {
      "cell_type": "code",
      "metadata": {
        "colab": {
          "resources": {
            "http://localhost:8080/nbextensions/google.colab/files.js": {
              "data": "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",
              "ok": true,
              "headers": [
                [
                  "content-type",
                  "application/javascript"
                ]
              ],
              "status": 200,
              "status_text": ""
            }
          },
          "base_uri": "https://localhost:8080/",
          "height": 74
        },
        "id": "lZASSw6O94nw",
        "outputId": "d51ee271-e7d1-42d7-a74c-97affb7fb674"
      },
      "source": [
        "from google.colab import files\n",
        "uploaded = files.upload()"
      ],
      "execution_count": 18,
      "outputs": [
        {
          "output_type": "display_data",
          "data": {
            "text/html": [
              "\n",
              "     <input type=\"file\" id=\"files-5b44759a-a1fd-479a-b0f5-094ad17748b2\" name=\"files[]\" multiple disabled\n",
              "        style=\"border:none\" />\n",
              "     <output id=\"result-5b44759a-a1fd-479a-b0f5-094ad17748b2\">\n",
              "      Upload widget is only available when the cell has been executed in the\n",
              "      current browser session. Please rerun this cell to enable.\n",
              "      </output>\n",
              "      <script src=\"/nbextensions/google.colab/files.js\"></script> "
            ],
            "text/plain": [
              "<IPython.core.display.HTML object>"
            ]
          },
          "metadata": {
            "tags": []
          }
        },
        {
          "output_type": "stream",
          "text": [
            "Saving PCA and NN dataset1.csv.csv to PCA and NN dataset1.csv (1).csv\n"
          ],
          "name": "stdout"
        }
      ]
    },
    {
      "cell_type": "code",
      "metadata": {
        "colab": {
          "base_uri": "https://localhost:8080/",
          "height": 203
        },
        "id": "66n7wPEg-CDx",
        "outputId": "f7f60361-9dcb-4492-dbe7-6fec3a6a144b"
      },
      "source": [
        "#  read the CSV file and look at the first five rows of the data:\n",
        "dataset = pd.read_csv('PCA and NN dataset1.csv.csv', delimiter=\"\\t\", quoting=3)\n",
        "dataset.head()"
      ],
      "execution_count": 19,
      "outputs": [
        {
          "output_type": "execute_result",
          "data": {
            "text/html": [
              "<div>\n",
              "<style scoped>\n",
              "    .dataframe tbody tr th:only-of-type {\n",
              "        vertical-align: middle;\n",
              "    }\n",
              "\n",
              "    .dataframe tbody tr th {\n",
              "        vertical-align: top;\n",
              "    }\n",
              "\n",
              "    .dataframe thead th {\n",
              "        text-align: right;\n",
              "    }\n",
              "</style>\n",
              "<table border=\"1\" class=\"dataframe\">\n",
              "  <thead>\n",
              "    <tr style=\"text-align: right;\">\n",
              "      <th></th>\n",
              "      <th>Gender,Glucose,BP,SkinThickness,Insulin,BMI,PedigreeFunction,Age,Outcome</th>\n",
              "    </tr>\n",
              "  </thead>\n",
              "  <tbody>\n",
              "    <tr>\n",
              "      <th>0</th>\n",
              "      <td>Male,148,72,35,0,33.6,0.627,50,1</td>\n",
              "    </tr>\n",
              "    <tr>\n",
              "      <th>1</th>\n",
              "      <td>Female,85,66,29,0,26.6,0.351,31,0</td>\n",
              "    </tr>\n",
              "    <tr>\n",
              "      <th>2</th>\n",
              "      <td>Female,183,64,0,0,23.3,0.672,32,1</td>\n",
              "    </tr>\n",
              "    <tr>\n",
              "      <th>3</th>\n",
              "      <td>Female,89,66,23,94,28.1,0.167,21,0</td>\n",
              "    </tr>\n",
              "    <tr>\n",
              "      <th>4</th>\n",
              "      <td>Male,137,,35,168,43.1,2.288,33,1</td>\n",
              "    </tr>\n",
              "  </tbody>\n",
              "</table>\n",
              "</div>"
            ],
            "text/plain": [
              "  Gender,Glucose,BP,SkinThickness,Insulin,BMI,PedigreeFunction,Age,Outcome\n",
              "0                   Male,148,72,35,0,33.6,0.627,50,1                      \n",
              "1                  Female,85,66,29,0,26.6,0.351,31,0                      \n",
              "2                  Female,183,64,0,0,23.3,0.672,32,1                      \n",
              "3                 Female,89,66,23,94,28.1,0.167,21,0                      \n",
              "4                   Male,137,,35,168,43.1,2.288,33,1                      "
            ]
          },
          "metadata": {
            "tags": []
          },
          "execution_count": 19
        }
      ]
    },
    {
      "cell_type": "code",
      "metadata": {
        "colab": {
          "base_uri": "https://localhost:8080/"
        },
        "id": "pk8Vq9LR-MZB",
        "outputId": "8a20e409-433c-4d66-ae6a-0f577a59e06f"
      },
      "source": [
        "print(dataset)"
      ],
      "execution_count": 20,
      "outputs": [
        {
          "output_type": "stream",
          "text": [
            "    Gender,Glucose,BP,SkinThickness,Insulin,BMI,PedigreeFunction,Age,Outcome\n",
            "0                     Male,148,72,35,0,33.6,0.627,50,1                      \n",
            "1                    Female,85,66,29,0,26.6,0.351,31,0                      \n",
            "2                    Female,183,64,0,0,23.3,0.672,32,1                      \n",
            "3                   Female,89,66,23,94,28.1,0.167,21,0                      \n",
            "4                     Male,137,,35,168,43.1,2.288,33,1                      \n",
            "..                                                 ...                      \n",
            "559                       Male,85,74,0,0,30.1,0.3,35,0                      \n",
            "560                    Male,125,76,0,0,33.8,0.121,54,1                      \n",
            "561                 Male,198,66,32,274,41.3,0.502,28,1                      \n",
            "562                   Male,87,68,34,77,37.6,0.401,24,0                      \n",
            "563                   Male,99,60,19,54,26.9,0.497,32,0                      \n",
            "\n",
            "[564 rows x 1 columns]\n"
          ],
          "name": "stdout"
        }
      ]
    },
    {
      "cell_type": "code",
      "metadata": {
        "colab": {
          "base_uri": "https://localhost:8080/"
        },
        "id": "ctUDpHcR-Rbj",
        "outputId": "88928cb5-11bd-4c26-aeb9-d410560777e0"
      },
      "source": [
        "#Print Total number of Rows & columns in dataset\n",
        "print(dataset.shape)"
      ],
      "execution_count": 21,
      "outputs": [
        {
          "output_type": "stream",
          "text": [
            "(564, 1)\n"
          ],
          "name": "stdout"
        }
      ]
    },
    {
      "cell_type": "code",
      "metadata": {
        "colab": {
          "base_uri": "https://localhost:8080/"
        },
        "id": "HmSgfpGd-Up0",
        "outputId": "080e90ad-a52e-4a40-cafe-a493e1bd3684"
      },
      "source": [
        "#Print Information about data\n",
        "dataset.info()"
      ],
      "execution_count": 22,
      "outputs": [
        {
          "output_type": "stream",
          "text": [
            "<class 'pandas.core.frame.DataFrame'>\n",
            "RangeIndex: 564 entries, 0 to 563\n",
            "Data columns (total 1 columns):\n",
            " #   Column                                                                    Non-Null Count  Dtype \n",
            "---  ------                                                                    --------------  ----- \n",
            " 0   Gender,Glucose,BP,SkinThickness,Insulin,BMI,PedigreeFunction,Age,Outcome  564 non-null    object\n",
            "dtypes: object(1)\n",
            "memory usage: 4.5+ KB\n"
          ],
          "name": "stdout"
        }
      ]
    },
    {
      "cell_type": "code",
      "metadata": {
        "colab": {
          "base_uri": "https://localhost:8080/"
        },
        "id": "5btr9ttm-YU8",
        "outputId": "85354475-cb29-4786-f02f-c60079f3be58"
      },
      "source": [
        "#Data types of Columns\n",
        "types = dataset.dtypes\n",
        "print(types)"
      ],
      "execution_count": 23,
      "outputs": [
        {
          "output_type": "stream",
          "text": [
            "Gender,Glucose,BP,SkinThickness,Insulin,BMI,PedigreeFunction,Age,Outcome    object\n",
            "dtype: object\n"
          ],
          "name": "stdout"
        }
      ]
    },
    {
      "cell_type": "code",
      "metadata": {
        "id": "c8abfBw2-Y8z"
      },
      "source": [
        "# Data Preprocessing\n",
        "\n",
        "# Importing the libraries\n",
        "import numpy as np\n",
        "import matplotlib.pyplot as plt\n",
        "import pandas as pd"
      ],
      "execution_count": 26,
      "outputs": []
    },
    {
      "cell_type": "code",
      "metadata": {
        "colab": {
          "resources": {
            "http://localhost:8080/nbextensions/google.colab/files.js": {
              "data": "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",
              "ok": true,
              "headers": [
                [
                  "content-type",
                  "application/javascript"
                ]
              ],
              "status": 200,
              "status_text": ""
            }
          },
          "base_uri": "https://localhost:8080/",
          "height": 74
        },
        "id": "F5g9cqH1-b1E",
        "outputId": "b6d0ce98-4ed8-43c5-cb76-6891a4f8fd95"
      },
      "source": [
        "from google.colab import files\n",
        "uploaded = files.upload()\n",
        "input=list(uploaded.keys())\n",
        "input=input[0]"
      ],
      "execution_count": 27,
      "outputs": [
        {
          "output_type": "display_data",
          "data": {
            "text/html": [
              "\n",
              "     <input type=\"file\" id=\"files-737ccc28-af3e-4f60-b6b5-75fec82c12fe\" name=\"files[]\" multiple disabled\n",
              "        style=\"border:none\" />\n",
              "     <output id=\"result-737ccc28-af3e-4f60-b6b5-75fec82c12fe\">\n",
              "      Upload widget is only available when the cell has been executed in the\n",
              "      current browser session. Please rerun this cell to enable.\n",
              "      </output>\n",
              "      <script src=\"/nbextensions/google.colab/files.js\"></script> "
            ],
            "text/plain": [
              "<IPython.core.display.HTML object>"
            ]
          },
          "metadata": {
            "tags": []
          }
        },
        {
          "output_type": "stream",
          "text": [
            "Saving PCA and NN dataset1.csv.csv to PCA and NN dataset1.csv (2).csv\n"
          ],
          "name": "stdout"
        }
      ]
    },
    {
      "cell_type": "code",
      "metadata": {
        "colab": {
          "base_uri": "https://localhost:8080/",
          "height": 417
        },
        "id": "l8_Kbyhz_fAQ",
        "outputId": "bc1fdd5b-8899-42a2-ed3f-821649306e27"
      },
      "source": [
        "# Importing the dataset\n",
        "dataset = pd.read_csv(input)\n",
        "dataset"
      ],
      "execution_count": 28,
      "outputs": [
        {
          "output_type": "execute_result",
          "data": {
            "text/html": [
              "<div>\n",
              "<style scoped>\n",
              "    .dataframe tbody tr th:only-of-type {\n",
              "        vertical-align: middle;\n",
              "    }\n",
              "\n",
              "    .dataframe tbody tr th {\n",
              "        vertical-align: top;\n",
              "    }\n",
              "\n",
              "    .dataframe thead th {\n",
              "        text-align: right;\n",
              "    }\n",
              "</style>\n",
              "<table border=\"1\" class=\"dataframe\">\n",
              "  <thead>\n",
              "    <tr style=\"text-align: right;\">\n",
              "      <th></th>\n",
              "      <th>Gender</th>\n",
              "      <th>Glucose</th>\n",
              "      <th>BP</th>\n",
              "      <th>SkinThickness</th>\n",
              "      <th>Insulin</th>\n",
              "      <th>BMI</th>\n",
              "      <th>PedigreeFunction</th>\n",
              "      <th>Age</th>\n",
              "      <th>Outcome</th>\n",
              "    </tr>\n",
              "  </thead>\n",
              "  <tbody>\n",
              "    <tr>\n",
              "      <th>0</th>\n",
              "      <td>Male</td>\n",
              "      <td>148</td>\n",
              "      <td>72.0</td>\n",
              "      <td>35.0</td>\n",
              "      <td>0.0</td>\n",
              "      <td>33.6</td>\n",
              "      <td>0.627</td>\n",
              "      <td>50</td>\n",
              "      <td>1</td>\n",
              "    </tr>\n",
              "    <tr>\n",
              "      <th>1</th>\n",
              "      <td>Female</td>\n",
              "      <td>85</td>\n",
              "      <td>66.0</td>\n",
              "      <td>29.0</td>\n",
              "      <td>0.0</td>\n",
              "      <td>26.6</td>\n",
              "      <td>0.351</td>\n",
              "      <td>31</td>\n",
              "      <td>0</td>\n",
              "    </tr>\n",
              "    <tr>\n",
              "      <th>2</th>\n",
              "      <td>Female</td>\n",
              "      <td>183</td>\n",
              "      <td>64.0</td>\n",
              "      <td>0.0</td>\n",
              "      <td>0.0</td>\n",
              "      <td>23.3</td>\n",
              "      <td>0.672</td>\n",
              "      <td>32</td>\n",
              "      <td>1</td>\n",
              "    </tr>\n",
              "    <tr>\n",
              "      <th>3</th>\n",
              "      <td>Female</td>\n",
              "      <td>89</td>\n",
              "      <td>66.0</td>\n",
              "      <td>23.0</td>\n",
              "      <td>94.0</td>\n",
              "      <td>28.1</td>\n",
              "      <td>0.167</td>\n",
              "      <td>21</td>\n",
              "      <td>0</td>\n",
              "    </tr>\n",
              "    <tr>\n",
              "      <th>4</th>\n",
              "      <td>Male</td>\n",
              "      <td>137</td>\n",
              "      <td>NaN</td>\n",
              "      <td>35.0</td>\n",
              "      <td>168.0</td>\n",
              "      <td>43.1</td>\n",
              "      <td>2.288</td>\n",
              "      <td>33</td>\n",
              "      <td>1</td>\n",
              "    </tr>\n",
              "    <tr>\n",
              "      <th>...</th>\n",
              "      <td>...</td>\n",
              "      <td>...</td>\n",
              "      <td>...</td>\n",
              "      <td>...</td>\n",
              "      <td>...</td>\n",
              "      <td>...</td>\n",
              "      <td>...</td>\n",
              "      <td>...</td>\n",
              "      <td>...</td>\n",
              "    </tr>\n",
              "    <tr>\n",
              "      <th>559</th>\n",
              "      <td>Male</td>\n",
              "      <td>85</td>\n",
              "      <td>74.0</td>\n",
              "      <td>0.0</td>\n",
              "      <td>0.0</td>\n",
              "      <td>30.1</td>\n",
              "      <td>0.300</td>\n",
              "      <td>35</td>\n",
              "      <td>0</td>\n",
              "    </tr>\n",
              "    <tr>\n",
              "      <th>560</th>\n",
              "      <td>Male</td>\n",
              "      <td>125</td>\n",
              "      <td>76.0</td>\n",
              "      <td>0.0</td>\n",
              "      <td>0.0</td>\n",
              "      <td>33.8</td>\n",
              "      <td>0.121</td>\n",
              "      <td>54</td>\n",
              "      <td>1</td>\n",
              "    </tr>\n",
              "    <tr>\n",
              "      <th>561</th>\n",
              "      <td>Male</td>\n",
              "      <td>198</td>\n",
              "      <td>66.0</td>\n",
              "      <td>32.0</td>\n",
              "      <td>274.0</td>\n",
              "      <td>41.3</td>\n",
              "      <td>0.502</td>\n",
              "      <td>28</td>\n",
              "      <td>1</td>\n",
              "    </tr>\n",
              "    <tr>\n",
              "      <th>562</th>\n",
              "      <td>Male</td>\n",
              "      <td>87</td>\n",
              "      <td>68.0</td>\n",
              "      <td>34.0</td>\n",
              "      <td>77.0</td>\n",
              "      <td>37.6</td>\n",
              "      <td>0.401</td>\n",
              "      <td>24</td>\n",
              "      <td>0</td>\n",
              "    </tr>\n",
              "    <tr>\n",
              "      <th>563</th>\n",
              "      <td>Male</td>\n",
              "      <td>99</td>\n",
              "      <td>60.0</td>\n",
              "      <td>19.0</td>\n",
              "      <td>54.0</td>\n",
              "      <td>26.9</td>\n",
              "      <td>0.497</td>\n",
              "      <td>32</td>\n",
              "      <td>0</td>\n",
              "    </tr>\n",
              "  </tbody>\n",
              "</table>\n",
              "<p>564 rows × 9 columns</p>\n",
              "</div>"
            ],
            "text/plain": [
              "     Gender  Glucose    BP  SkinThickness  ...   BMI  PedigreeFunction  Age  Outcome\n",
              "0      Male      148  72.0           35.0  ...  33.6             0.627   50        1\n",
              "1    Female       85  66.0           29.0  ...  26.6             0.351   31        0\n",
              "2    Female      183  64.0            0.0  ...  23.3             0.672   32        1\n",
              "3    Female       89  66.0           23.0  ...  28.1             0.167   21        0\n",
              "4      Male      137   NaN           35.0  ...  43.1             2.288   33        1\n",
              "..      ...      ...   ...            ...  ...   ...               ...  ...      ...\n",
              "559    Male       85  74.0            0.0  ...  30.1             0.300   35        0\n",
              "560    Male      125  76.0            0.0  ...  33.8             0.121   54        1\n",
              "561    Male      198  66.0           32.0  ...  41.3             0.502   28        1\n",
              "562    Male       87  68.0           34.0  ...  37.6             0.401   24        0\n",
              "563    Male       99  60.0           19.0  ...  26.9             0.497   32        0\n",
              "\n",
              "[564 rows x 9 columns]"
            ]
          },
          "metadata": {
            "tags": []
          },
          "execution_count": 28
        }
      ]
    },
    {
      "cell_type": "code",
      "metadata": {
        "colab": {
          "base_uri": "https://localhost:8080/"
        },
        "id": "Q2HJmJeL_upe",
        "outputId": "38da456b-a40a-44be-ce4d-93ea39ef0b2d"
      },
      "source": [
        "print(dataset)"
      ],
      "execution_count": 29,
      "outputs": [
        {
          "output_type": "stream",
          "text": [
            "     Gender  Glucose    BP  SkinThickness  ...   BMI  PedigreeFunction  Age  Outcome\n",
            "0      Male      148  72.0           35.0  ...  33.6             0.627   50        1\n",
            "1    Female       85  66.0           29.0  ...  26.6             0.351   31        0\n",
            "2    Female      183  64.0            0.0  ...  23.3             0.672   32        1\n",
            "3    Female       89  66.0           23.0  ...  28.1             0.167   21        0\n",
            "4      Male      137   NaN           35.0  ...  43.1             2.288   33        1\n",
            "..      ...      ...   ...            ...  ...   ...               ...  ...      ...\n",
            "559    Male       85  74.0            0.0  ...  30.1             0.300   35        0\n",
            "560    Male      125  76.0            0.0  ...  33.8             0.121   54        1\n",
            "561    Male      198  66.0           32.0  ...  41.3             0.502   28        1\n",
            "562    Male       87  68.0           34.0  ...  37.6             0.401   24        0\n",
            "563    Male       99  60.0           19.0  ...  26.9             0.497   32        0\n",
            "\n",
            "[564 rows x 9 columns]\n"
          ],
          "name": "stdout"
        }
      ]
    },
    {
      "cell_type": "code",
      "metadata": {
        "colab": {
          "base_uri": "https://localhost:8080/"
        },
        "id": "36WnMf45_vRw",
        "outputId": "36034818-8bb1-4d63-e1d2-614bc9a30269"
      },
      "source": [
        "#Print Total number of Rows & columns in dataset\n",
        "print(dataset.shape)"
      ],
      "execution_count": 30,
      "outputs": [
        {
          "output_type": "stream",
          "text": [
            "(564, 9)\n"
          ],
          "name": "stdout"
        }
      ]
    },
    {
      "cell_type": "code",
      "metadata": {
        "colab": {
          "base_uri": "https://localhost:8080/"
        },
        "id": "lOPBz5vE_z_3",
        "outputId": "c0d18622-8b27-4a20-8134-42a330c8b622"
      },
      "source": [
        "#Print Information about data\n",
        "dataset.info()"
      ],
      "execution_count": 31,
      "outputs": [
        {
          "output_type": "stream",
          "text": [
            "<class 'pandas.core.frame.DataFrame'>\n",
            "RangeIndex: 564 entries, 0 to 563\n",
            "Data columns (total 9 columns):\n",
            " #   Column            Non-Null Count  Dtype  \n",
            "---  ------            --------------  -----  \n",
            " 0   Gender            564 non-null    object \n",
            " 1   Glucose           564 non-null    int64  \n",
            " 2   BP                548 non-null    float64\n",
            " 3   SkinThickness     553 non-null    float64\n",
            " 4   Insulin           552 non-null    float64\n",
            " 5   BMI               547 non-null    float64\n",
            " 6   PedigreeFunction  546 non-null    float64\n",
            " 7   Age               564 non-null    int64  \n",
            " 8   Outcome           564 non-null    int64  \n",
            "dtypes: float64(5), int64(3), object(1)\n",
            "memory usage: 39.8+ KB\n"
          ],
          "name": "stdout"
        }
      ]
    },
    {
      "cell_type": "code",
      "metadata": {
        "colab": {
          "base_uri": "https://localhost:8080/",
          "height": 295
        },
        "id": "UHSaJniK_3Za",
        "outputId": "62998d2f-0d04-43fd-8884-d22e648d2881"
      },
      "source": [
        "#Print Information about date\n",
        "dataset.describe()"
      ],
      "execution_count": 32,
      "outputs": [
        {
          "output_type": "execute_result",
          "data": {
            "text/html": [
              "<div>\n",
              "<style scoped>\n",
              "    .dataframe tbody tr th:only-of-type {\n",
              "        vertical-align: middle;\n",
              "    }\n",
              "\n",
              "    .dataframe tbody tr th {\n",
              "        vertical-align: top;\n",
              "    }\n",
              "\n",
              "    .dataframe thead th {\n",
              "        text-align: right;\n",
              "    }\n",
              "</style>\n",
              "<table border=\"1\" class=\"dataframe\">\n",
              "  <thead>\n",
              "    <tr style=\"text-align: right;\">\n",
              "      <th></th>\n",
              "      <th>Glucose</th>\n",
              "      <th>BP</th>\n",
              "      <th>SkinThickness</th>\n",
              "      <th>Insulin</th>\n",
              "      <th>BMI</th>\n",
              "      <th>PedigreeFunction</th>\n",
              "      <th>Age</th>\n",
              "      <th>Outcome</th>\n",
              "    </tr>\n",
              "  </thead>\n",
              "  <tbody>\n",
              "    <tr>\n",
              "      <th>count</th>\n",
              "      <td>564.000000</td>\n",
              "      <td>548.000000</td>\n",
              "      <td>553.000000</td>\n",
              "      <td>552.000000</td>\n",
              "      <td>547.000000</td>\n",
              "      <td>546.000000</td>\n",
              "      <td>564.000000</td>\n",
              "      <td>564.000000</td>\n",
              "    </tr>\n",
              "    <tr>\n",
              "      <th>mean</th>\n",
              "      <td>120.239362</td>\n",
              "      <td>68.768248</td>\n",
              "      <td>20.618445</td>\n",
              "      <td>80.009058</td>\n",
              "      <td>31.830896</td>\n",
              "      <td>0.481267</td>\n",
              "      <td>33.292553</td>\n",
              "      <td>0.349291</td>\n",
              "    </tr>\n",
              "    <tr>\n",
              "      <th>std</th>\n",
              "      <td>32.763176</td>\n",
              "      <td>19.279507</td>\n",
              "      <td>15.628644</td>\n",
              "      <td>116.936865</td>\n",
              "      <td>8.111669</td>\n",
              "      <td>0.337244</td>\n",
              "      <td>11.818696</td>\n",
              "      <td>0.477169</td>\n",
              "    </tr>\n",
              "    <tr>\n",
              "      <th>min</th>\n",
              "      <td>0.000000</td>\n",
              "      <td>0.000000</td>\n",
              "      <td>0.000000</td>\n",
              "      <td>0.000000</td>\n",
              "      <td>0.000000</td>\n",
              "      <td>0.078000</td>\n",
              "      <td>21.000000</td>\n",
              "      <td>0.000000</td>\n",
              "    </tr>\n",
              "    <tr>\n",
              "      <th>25%</th>\n",
              "      <td>99.000000</td>\n",
              "      <td>64.000000</td>\n",
              "      <td>0.000000</td>\n",
              "      <td>0.000000</td>\n",
              "      <td>27.050000</td>\n",
              "      <td>0.248250</td>\n",
              "      <td>24.000000</td>\n",
              "      <td>0.000000</td>\n",
              "    </tr>\n",
              "    <tr>\n",
              "      <th>50%</th>\n",
              "      <td>116.000000</td>\n",
              "      <td>70.000000</td>\n",
              "      <td>23.000000</td>\n",
              "      <td>37.500000</td>\n",
              "      <td>32.000000</td>\n",
              "      <td>0.388500</td>\n",
              "      <td>29.000000</td>\n",
              "      <td>0.000000</td>\n",
              "    </tr>\n",
              "    <tr>\n",
              "      <th>75%</th>\n",
              "      <td>140.250000</td>\n",
              "      <td>78.500000</td>\n",
              "      <td>32.000000</td>\n",
              "      <td>120.500000</td>\n",
              "      <td>36.550000</td>\n",
              "      <td>0.646500</td>\n",
              "      <td>40.000000</td>\n",
              "      <td>1.000000</td>\n",
              "    </tr>\n",
              "    <tr>\n",
              "      <th>max</th>\n",
              "      <td>198.000000</td>\n",
              "      <td>122.000000</td>\n",
              "      <td>63.000000</td>\n",
              "      <td>846.000000</td>\n",
              "      <td>67.100000</td>\n",
              "      <td>2.420000</td>\n",
              "      <td>81.000000</td>\n",
              "      <td>1.000000</td>\n",
              "    </tr>\n",
              "  </tbody>\n",
              "</table>\n",
              "</div>"
            ],
            "text/plain": [
              "          Glucose          BP  ...         Age     Outcome\n",
              "count  564.000000  548.000000  ...  564.000000  564.000000\n",
              "mean   120.239362   68.768248  ...   33.292553    0.349291\n",
              "std     32.763176   19.279507  ...   11.818696    0.477169\n",
              "min      0.000000    0.000000  ...   21.000000    0.000000\n",
              "25%     99.000000   64.000000  ...   24.000000    0.000000\n",
              "50%    116.000000   70.000000  ...   29.000000    0.000000\n",
              "75%    140.250000   78.500000  ...   40.000000    1.000000\n",
              "max    198.000000  122.000000  ...   81.000000    1.000000\n",
              "\n",
              "[8 rows x 8 columns]"
            ]
          },
          "metadata": {
            "tags": []
          },
          "execution_count": 32
        }
      ]
    },
    {
      "cell_type": "code",
      "metadata": {
        "colab": {
          "base_uri": "https://localhost:8080/"
        },
        "id": "1mpfNtWwABNm",
        "outputId": "828a64f6-66c7-48fe-9893-a8c45d973aef"
      },
      "source": [
        "types = dataset.dtypes\n",
        "print(types)"
      ],
      "execution_count": 33,
      "outputs": [
        {
          "output_type": "stream",
          "text": [
            "Gender               object\n",
            "Glucose               int64\n",
            "BP                  float64\n",
            "SkinThickness       float64\n",
            "Insulin             float64\n",
            "BMI                 float64\n",
            "PedigreeFunction    float64\n",
            "Age                   int64\n",
            "Outcome               int64\n",
            "dtype: object\n"
          ],
          "name": "stdout"
        }
      ]
    },
    {
      "cell_type": "code",
      "metadata": {
        "colab": {
          "base_uri": "https://localhost:8080/"
        },
        "id": "2iYrXhCVAEdT",
        "outputId": "7bc2f7ba-0ff8-42ed-ad13-09c7798f9bfb"
      },
      "source": [
        "#Count total number of classes in Data\n",
        "class_counts = dataset.groupby('PedigreeFunction').size()\n",
        "print(class_counts)"
      ],
      "execution_count": 36,
      "outputs": [
        {
          "output_type": "stream",
          "text": [
            "PedigreeFunction\n",
            "0.078    1\n",
            "0.084    1\n",
            "0.085    1\n",
            "0.088    1\n",
            "0.089    1\n",
            "        ..\n",
            "1.893    1\n",
            "2.137    1\n",
            "2.288    1\n",
            "2.329    1\n",
            "2.420    1\n",
            "Length: 411, dtype: int64\n"
          ],
          "name": "stdout"
        }
      ]
    },
    {
      "cell_type": "code",
      "metadata": {
        "colab": {
          "base_uri": "https://localhost:8080/"
        },
        "id": "7UL8mQppAV4I",
        "outputId": "ff10887b-b47b-4b11-9f14-a5d226d0eb79"
      },
      "source": [
        "#Count total number of classes in Data\n",
        "class_counts = dataset.groupby('Outcome').size()\n",
        "\n",
        "print(class_counts)"
      ],
      "execution_count": 38,
      "outputs": [
        {
          "output_type": "stream",
          "text": [
            "Outcome\n",
            "0    367\n",
            "1    197\n",
            "dtype: int64\n"
          ],
          "name": "stdout"
        }
      ]
    },
    {
      "cell_type": "code",
      "metadata": {
        "colab": {
          "base_uri": "https://localhost:8080/",
          "height": 281
        },
        "id": "GLNIszzQAhsT",
        "outputId": "0c492068-8805-4a7f-abfb-774391193aa3"
      },
      "source": [
        "from matplotlib import pyplot\n",
        "dataset.hist()\n",
        "pyplot.show()"
      ],
      "execution_count": 39,
      "outputs": [
        {
          "output_type": "display_data",
          "data": {
            "image/png": "[encoded data removed]",
            "text/plain": [
              "<Figure size 432x288 with 9 Axes>"
            ]
          },
          "metadata": {
            "tags": [],
            "needs_background": "light"
          }
        }
      ]
    },
    {
      "cell_type": "code",
      "metadata": {
        "colab": {
          "base_uri": "https://localhost:8080/",
          "height": 152
        },
        "id": "KaAUNrjPAlNd",
        "outputId": "a54aeef0-a46b-46e3-eb3f-f6d91090868b"
      },
      "source": [
        "dataset.plot(kind='density' ,subplots=True, layout=(4,4), sharex=False)\n",
        "pyplot.show()"
      ],
      "execution_count": 40,
      "outputs": [
        {
          "output_type": "display_data",
          "data": {
            "image/png": "[encoded data removed]",
            "text/plain": [
              "<Figure size 432x288 with 16 Axes>"
            ]
          },
          "metadata": {
            "tags": [],
            "needs_background": "light"
          }
        }
      ]
    },
    {
      "cell_type": "code",
      "metadata": {
        "id": "IuVvMn0IAoo1"
      },
      "source": [
        "# Extracting dependent and independent variables:\n",
        "# Extracting independent variable:\n",
        "X = dataset.iloc[:,1:6].values\n",
        "# Extracting dependent variable:\n",
        "y = dataset.iloc[:, 6].values"
      ],
      "execution_count": 42,
      "outputs": []
    },
    {
      "cell_type": "code",
      "metadata": {
        "id": "Dk1nPDFbBC95"
      },
      "source": [
        ""
      ],
      "execution_count": 43,
      "outputs": []
    }
  ]
}